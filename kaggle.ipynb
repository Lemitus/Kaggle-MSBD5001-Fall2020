{
 "cells": [
  {
   "cell_type": "code",
   "execution_count": 1,
   "metadata": {
    "ExecuteTime": {
     "end_time": "2020-12-02T06:23:23.965287Z",
     "start_time": "2020-12-02T06:23:20.492487Z"
    }
   },
   "outputs": [
    {
     "name": "stderr",
     "output_type": "stream",
     "text": [
      "Importing plotly failed. Interactive plots will not work.\n"
     ]
    }
   ],
   "source": [
    "import numpy as np\n",
    "import pandas as pd\n",
    "import matplotlib.pyplot as plt\n",
    "import xgboost as xgb\n",
    "from xgboost import plot_importance, plot_tree\n",
    "from sklearn.metrics import mean_squared_error, mean_absolute_error\n",
    "from sklearn.neural_network import MLPRegressor\n",
    "from fbprophet import Prophet\n",
    "plt.style.use('fivethirtyeight')"
   ]
  },
  {
   "cell_type": "code",
   "execution_count": 2,
   "metadata": {
    "ExecuteTime": {
     "end_time": "2020-12-02T06:23:26.491240Z",
     "start_time": "2020-12-02T06:23:26.276786Z"
    }
   },
   "outputs": [
    {
     "data": {
      "text/html": [
       "<div>\n",
       "<style scoped>\n",
       "    .dataframe tbody tr th:only-of-type {\n",
       "        vertical-align: middle;\n",
       "    }\n",
       "\n",
       "    .dataframe tbody tr th {\n",
       "        vertical-align: top;\n",
       "    }\n",
       "\n",
       "    .dataframe thead th {\n",
       "        text-align: right;\n",
       "    }\n",
       "</style>\n",
       "<table border=\"1\" class=\"dataframe\">\n",
       "  <thead>\n",
       "    <tr style=\"text-align: right;\">\n",
       "      <th></th>\n",
       "      <th>speed</th>\n",
       "    </tr>\n",
       "    <tr>\n",
       "      <th>date</th>\n",
       "      <th></th>\n",
       "    </tr>\n",
       "  </thead>\n",
       "  <tbody>\n",
       "    <tr>\n",
       "      <th>2017-01-01 00:00:00</th>\n",
       "      <td>43.002930</td>\n",
       "    </tr>\n",
       "    <tr>\n",
       "      <th>2017-01-01 01:00:00</th>\n",
       "      <td>46.118696</td>\n",
       "    </tr>\n",
       "    <tr>\n",
       "      <th>2017-01-01 02:00:00</th>\n",
       "      <td>44.294158</td>\n",
       "    </tr>\n",
       "    <tr>\n",
       "      <th>2017-01-01 03:00:00</th>\n",
       "      <td>41.067468</td>\n",
       "    </tr>\n",
       "    <tr>\n",
       "      <th>2017-01-01 04:00:00</th>\n",
       "      <td>46.448653</td>\n",
       "    </tr>\n",
       "  </tbody>\n",
       "</table>\n",
       "</div>"
      ],
      "text/plain": [
       "                         speed\n",
       "date                          \n",
       "2017-01-01 00:00:00  43.002930\n",
       "2017-01-01 01:00:00  46.118696\n",
       "2017-01-01 02:00:00  44.294158\n",
       "2017-01-01 03:00:00  41.067468\n",
       "2017-01-01 04:00:00  46.448653"
      ]
     },
     "execution_count": 2,
     "metadata": {},
     "output_type": "execute_result"
    }
   ],
   "source": [
    "# read data and convert string to date\n",
    "speed = pd.read_csv('train.csv')\n",
    "speed['date']=pd.to_datetime(speed['date'],format='%d/%m/%Y %H:%M')\n",
    "speed.set_index('date', inplace=True) \n",
    "speed = speed.drop(columns='id',axis= 1)\n",
    "speed.head()"
   ]
  },
  {
   "cell_type": "code",
   "execution_count": 3,
   "metadata": {
    "ExecuteTime": {
     "end_time": "2020-12-02T06:23:27.215917Z",
     "start_time": "2020-12-02T06:23:27.204730Z"
    }
   },
   "outputs": [],
   "source": [
    "# Creates time series features from datetime index\n",
    "def create_features(df, label=None):\n",
    "    df['date'] = df.index\n",
    "    df['hour'] = df['date'].dt.hour\n",
    "    df['dayofweek'] = df['date'].dt.dayofweek\n",
    "    df['quarter'] = df['date'].dt.quarter\n",
    "    df['month'] = df['date'].dt.month\n",
    "    df['year'] = df['date'].dt.year\n",
    "    df['dayofyear'] = df['date'].dt.dayofyear\n",
    "    df['dayofmonth'] = df['date'].dt.day\n",
    "    df['weekofyear'] = df['date'].dt.weekofyear\n",
    "    \n",
    "    X = df[['hour','dayofweek','quarter','month','year',\n",
    "           'dayofyear','dayofmonth','weekofyear']]\n",
    "    if label:\n",
    "        y = df[label]\n",
    "        return X, y\n",
    "    return X"
   ]
  },
  {
   "cell_type": "code",
   "execution_count": 4,
   "metadata": {
    "ExecuteTime": {
     "end_time": "2020-12-02T06:23:29.591418Z",
     "start_time": "2020-12-02T06:23:29.496471Z"
    }
   },
   "outputs": [],
   "source": [
    "X_train, y_train = create_features(speed, label='speed')"
   ]
  },
  {
   "cell_type": "code",
   "execution_count": 5,
   "metadata": {
    "ExecuteTime": {
     "end_time": "2020-12-02T06:23:30.882887Z",
     "start_time": "2020-12-02T06:23:30.867936Z"
    }
   },
   "outputs": [
    {
     "data": {
      "text/plain": [
       "date\n",
       "2017-01-01 00:00:00    43.002930\n",
       "2017-01-01 01:00:00    46.118696\n",
       "2017-01-01 02:00:00    44.294158\n",
       "2017-01-01 03:00:00    41.067468\n",
       "2017-01-01 04:00:00    46.448653\n",
       "                         ...    \n",
       "2018-12-31 12:00:00    19.865269\n",
       "2018-12-31 15:00:00    17.820375\n",
       "2018-12-31 16:00:00    12.501851\n",
       "2018-12-31 18:00:00    15.979319\n",
       "2018-12-31 20:00:00    40.594183\n",
       "Name: speed, Length: 14006, dtype: float64"
      ]
     },
     "execution_count": 5,
     "metadata": {},
     "output_type": "execute_result"
    }
   ],
   "source": [
    "y_train"
   ]
  },
  {
   "cell_type": "markdown",
   "metadata": {},
   "source": [
    "# xgboost"
   ]
  },
  {
   "cell_type": "code",
   "execution_count": 19,
   "metadata": {
    "ExecuteTime": {
     "end_time": "2020-12-02T06:29:08.757501Z",
     "start_time": "2020-12-02T06:29:05.043250Z"
    }
   },
   "outputs": [
    {
     "data": {
      "text/plain": [
       "XGBRegressor(base_score=0.5, booster='gbtree', colsample_bylevel=1,\n",
       "             colsample_bynode=1, colsample_bytree=1, gamma=0, gpu_id=-1,\n",
       "             importance_type='gain', interaction_constraints='',\n",
       "             learning_rate=0.300000012, max_delta_step=0, max_depth=10,\n",
       "             min_child_weight=1, missing=nan, monotone_constraints='()',\n",
       "             n_estimators=80, n_jobs=0, num_parallel_tree=1, random_state=0,\n",
       "             reg_alpha=0.1, reg_lambda=0.5, scale_pos_weight=1, subsample=1,\n",
       "             tree_method='exact', validate_parameters=1, verbosity=None)"
      ]
     },
     "execution_count": 19,
     "metadata": {},
     "output_type": "execute_result"
    }
   ],
   "source": [
    "#use xgboost to train the model\n",
    "reg = xgb.XGBRegressor(n_estimators=300, reg_alpha=0.1, reg_lambda=0.5)\n",
    "#n_estimators=300, reg_alpha=0.1, reg_lambda=0.5\n",
    "#n_estimators=300, reg_alpha=0.1, reg_lambda=0.5, gamma=0.45\n",
    "reg.fit(X_train, y_train)"
   ]
  },
  {
   "cell_type": "code",
   "execution_count": 13,
   "metadata": {
    "ExecuteTime": {
     "end_time": "2020-12-02T06:25:16.694064Z",
     "start_time": "2020-12-02T06:25:16.691079Z"
    }
   },
   "outputs": [],
   "source": [
    "# reg = MLPRegressor(alpha=1e-5, hidden_layer_sizes=(256,128,64,10), max_iter=400, learning_rate_init=0.005)\n",
    "\n",
    "# reg.fit(X_train, y_train)"
   ]
  },
  {
   "cell_type": "code",
   "execution_count": 20,
   "metadata": {
    "ExecuteTime": {
     "end_time": "2020-12-02T06:29:14.025874Z",
     "start_time": "2020-12-02T06:29:12.789210Z"
    }
   },
   "outputs": [
    {
     "data": {
      "image/png": "[encoded data removed]",
      "text/plain": [
       "<Figure size 432x288 with 1 Axes>"
      ]
     },
     "metadata": {},
     "output_type": "display_data"
    }
   ],
   "source": [
    "_ = plot_importance(reg, height=0.9)"
   ]
  },
  {
   "cell_type": "code",
   "execution_count": 21,
   "metadata": {
    "ExecuteTime": {
     "end_time": "2020-12-02T06:29:18.362395Z",
     "start_time": "2020-12-02T06:29:18.193620Z"
    }
   },
   "outputs": [
    {
     "data": {
      "text/html": [
       "<div>\n",
       "<style scoped>\n",
       "    .dataframe tbody tr th:only-of-type {\n",
       "        vertical-align: middle;\n",
       "    }\n",
       "\n",
       "    .dataframe tbody tr th {\n",
       "        vertical-align: top;\n",
       "    }\n",
       "\n",
       "    .dataframe thead th {\n",
       "        text-align: right;\n",
       "    }\n",
       "</style>\n",
       "<table border=\"1\" class=\"dataframe\">\n",
       "  <thead>\n",
       "    <tr style=\"text-align: right;\">\n",
       "      <th></th>\n",
       "      <th>id</th>\n",
       "      <th>date</th>\n",
       "      <th>hour</th>\n",
       "      <th>dayofweek</th>\n",
       "      <th>quarter</th>\n",
       "      <th>month</th>\n",
       "      <th>year</th>\n",
       "      <th>dayofyear</th>\n",
       "      <th>dayofmonth</th>\n",
       "      <th>weekofyear</th>\n",
       "      <th>speed</th>\n",
       "    </tr>\n",
       "    <tr>\n",
       "      <th>date</th>\n",
       "      <th></th>\n",
       "      <th></th>\n",
       "      <th></th>\n",
       "      <th></th>\n",
       "      <th></th>\n",
       "      <th></th>\n",
       "      <th></th>\n",
       "      <th></th>\n",
       "      <th></th>\n",
       "      <th></th>\n",
       "      <th></th>\n",
       "    </tr>\n",
       "  </thead>\n",
       "  <tbody>\n",
       "    <tr>\n",
       "      <th>2018-01-01 02:00:00</th>\n",
       "      <td>0</td>\n",
       "      <td>2018-01-01 02:00:00</td>\n",
       "      <td>2</td>\n",
       "      <td>0</td>\n",
       "      <td>1</td>\n",
       "      <td>1</td>\n",
       "      <td>2018</td>\n",
       "      <td>1</td>\n",
       "      <td>1</td>\n",
       "      <td>1</td>\n",
       "      <td>49.400734</td>\n",
       "    </tr>\n",
       "    <tr>\n",
       "      <th>2018-01-01 05:00:00</th>\n",
       "      <td>1</td>\n",
       "      <td>2018-01-01 05:00:00</td>\n",
       "      <td>5</td>\n",
       "      <td>0</td>\n",
       "      <td>1</td>\n",
       "      <td>1</td>\n",
       "      <td>2018</td>\n",
       "      <td>1</td>\n",
       "      <td>1</td>\n",
       "      <td>1</td>\n",
       "      <td>47.420162</td>\n",
       "    </tr>\n",
       "    <tr>\n",
       "      <th>2018-01-01 07:00:00</th>\n",
       "      <td>2</td>\n",
       "      <td>2018-01-01 07:00:00</td>\n",
       "      <td>7</td>\n",
       "      <td>0</td>\n",
       "      <td>1</td>\n",
       "      <td>1</td>\n",
       "      <td>2018</td>\n",
       "      <td>1</td>\n",
       "      <td>1</td>\n",
       "      <td>1</td>\n",
       "      <td>37.600574</td>\n",
       "    </tr>\n",
       "    <tr>\n",
       "      <th>2018-01-01 08:00:00</th>\n",
       "      <td>3</td>\n",
       "      <td>2018-01-01 08:00:00</td>\n",
       "      <td>8</td>\n",
       "      <td>0</td>\n",
       "      <td>1</td>\n",
       "      <td>1</td>\n",
       "      <td>2018</td>\n",
       "      <td>1</td>\n",
       "      <td>1</td>\n",
       "      <td>1</td>\n",
       "      <td>30.200569</td>\n",
       "    </tr>\n",
       "    <tr>\n",
       "      <th>2018-01-01 10:00:00</th>\n",
       "      <td>4</td>\n",
       "      <td>2018-01-01 10:00:00</td>\n",
       "      <td>10</td>\n",
       "      <td>0</td>\n",
       "      <td>1</td>\n",
       "      <td>1</td>\n",
       "      <td>2018</td>\n",
       "      <td>1</td>\n",
       "      <td>1</td>\n",
       "      <td>1</td>\n",
       "      <td>42.712769</td>\n",
       "    </tr>\n",
       "  </tbody>\n",
       "</table>\n",
       "</div>"
      ],
      "text/plain": [
       "                     id                date  hour  dayofweek  quarter  month  \\\n",
       "date                                                                           \n",
       "2018-01-01 02:00:00   0 2018-01-01 02:00:00     2          0        1      1   \n",
       "2018-01-01 05:00:00   1 2018-01-01 05:00:00     5          0        1      1   \n",
       "2018-01-01 07:00:00   2 2018-01-01 07:00:00     7          0        1      1   \n",
       "2018-01-01 08:00:00   3 2018-01-01 08:00:00     8          0        1      1   \n",
       "2018-01-01 10:00:00   4 2018-01-01 10:00:00    10          0        1      1   \n",
       "\n",
       "                     year  dayofyear  dayofmonth  weekofyear      speed  \n",
       "date                                                                     \n",
       "2018-01-01 02:00:00  2018          1           1           1  49.400734  \n",
       "2018-01-01 05:00:00  2018          1           1           1  47.420162  \n",
       "2018-01-01 07:00:00  2018          1           1           1  37.600574  \n",
       "2018-01-01 08:00:00  2018          1           1           1  30.200569  \n",
       "2018-01-01 10:00:00  2018          1           1           1  42.712769  "
      ]
     },
     "execution_count": 21,
     "metadata": {},
     "output_type": "execute_result"
    }
   ],
   "source": [
    "# read test data and predict\n",
    "ts = pd.read_csv('test.csv')\n",
    "ts['date'] = pd.to_datetime(ts['date'],format='%d/%m/%Y %H:%M')\n",
    "ts.set_index('date', inplace=True) \n",
    "# ts = ts.drop(columns='id',axis= 1)\n",
    "X_ts = create_features(ts)\n",
    "ts['speed'] = reg.predict(X_ts)\n",
    "\n",
    "\n",
    "ts.head()"
   ]
  },
  {
   "cell_type": "code",
   "execution_count": 22,
   "metadata": {
    "ExecuteTime": {
     "end_time": "2020-12-02T06:29:19.603270Z",
     "start_time": "2020-12-02T06:29:19.574978Z"
    }
   },
   "outputs": [
    {
     "data": {
      "text/html": [
       "<div>\n",
       "<style scoped>\n",
       "    .dataframe tbody tr th:only-of-type {\n",
       "        vertical-align: middle;\n",
       "    }\n",
       "\n",
       "    .dataframe tbody tr th {\n",
       "        vertical-align: top;\n",
       "    }\n",
       "\n",
       "    .dataframe thead th {\n",
       "        text-align: right;\n",
       "    }\n",
       "</style>\n",
       "<table border=\"1\" class=\"dataframe\">\n",
       "  <thead>\n",
       "    <tr style=\"text-align: right;\">\n",
       "      <th></th>\n",
       "      <th>id</th>\n",
       "      <th>speed</th>\n",
       "    </tr>\n",
       "    <tr>\n",
       "      <th>date</th>\n",
       "      <th></th>\n",
       "      <th></th>\n",
       "    </tr>\n",
       "  </thead>\n",
       "  <tbody>\n",
       "    <tr>\n",
       "      <th>2018-01-01 02:00:00</th>\n",
       "      <td>0</td>\n",
       "      <td>49.400734</td>\n",
       "    </tr>\n",
       "    <tr>\n",
       "      <th>2018-01-01 05:00:00</th>\n",
       "      <td>1</td>\n",
       "      <td>47.420162</td>\n",
       "    </tr>\n",
       "    <tr>\n",
       "      <th>2018-01-01 07:00:00</th>\n",
       "      <td>2</td>\n",
       "      <td>37.600574</td>\n",
       "    </tr>\n",
       "    <tr>\n",
       "      <th>2018-01-01 08:00:00</th>\n",
       "      <td>3</td>\n",
       "      <td>30.200569</td>\n",
       "    </tr>\n",
       "    <tr>\n",
       "      <th>2018-01-01 10:00:00</th>\n",
       "      <td>4</td>\n",
       "      <td>42.712769</td>\n",
       "    </tr>\n",
       "  </tbody>\n",
       "</table>\n",
       "</div>"
      ],
      "text/plain": [
       "                     id      speed\n",
       "date                              \n",
       "2018-01-01 02:00:00   0  49.400734\n",
       "2018-01-01 05:00:00   1  47.420162\n",
       "2018-01-01 07:00:00   2  37.600574\n",
       "2018-01-01 08:00:00   3  30.200569\n",
       "2018-01-01 10:00:00   4  42.712769"
      ]
     },
     "execution_count": 22,
     "metadata": {},
     "output_type": "execute_result"
    }
   ],
   "source": [
    "output = ts[['id','speed']]\n",
    "output.head()"
   ]
  },
  {
   "cell_type": "code",
   "execution_count": 23,
   "metadata": {
    "ExecuteTime": {
     "end_time": "2020-12-02T06:29:21.829863Z",
     "start_time": "2020-12-02T06:29:21.808211Z"
    }
   },
   "outputs": [
    {
     "data": {
      "text/html": [
       "<div>\n",
       "<style scoped>\n",
       "    .dataframe tbody tr th:only-of-type {\n",
       "        vertical-align: middle;\n",
       "    }\n",
       "\n",
       "    .dataframe tbody tr th {\n",
       "        vertical-align: top;\n",
       "    }\n",
       "\n",
       "    .dataframe thead th {\n",
       "        text-align: right;\n",
       "    }\n",
       "</style>\n",
       "<table border=\"1\" class=\"dataframe\">\n",
       "  <thead>\n",
       "    <tr style=\"text-align: right;\">\n",
       "      <th></th>\n",
       "      <th>speed</th>\n",
       "    </tr>\n",
       "    <tr>\n",
       "      <th>id</th>\n",
       "      <th></th>\n",
       "    </tr>\n",
       "  </thead>\n",
       "  <tbody>\n",
       "    <tr>\n",
       "      <th>0</th>\n",
       "      <td>49.400734</td>\n",
       "    </tr>\n",
       "    <tr>\n",
       "      <th>1</th>\n",
       "      <td>47.420162</td>\n",
       "    </tr>\n",
       "    <tr>\n",
       "      <th>2</th>\n",
       "      <td>37.600574</td>\n",
       "    </tr>\n",
       "    <tr>\n",
       "      <th>3</th>\n",
       "      <td>30.200569</td>\n",
       "    </tr>\n",
       "    <tr>\n",
       "      <th>4</th>\n",
       "      <td>42.712769</td>\n",
       "    </tr>\n",
       "  </tbody>\n",
       "</table>\n",
       "</div>"
      ],
      "text/plain": [
       "        speed\n",
       "id           \n",
       "0   49.400734\n",
       "1   47.420162\n",
       "2   37.600574\n",
       "3   30.200569\n",
       "4   42.712769"
      ]
     },
     "execution_count": 23,
     "metadata": {},
     "output_type": "execute_result"
    }
   ],
   "source": [
    "output.set_index('id', inplace=True) \n",
    "output.head()"
   ]
  },
  {
   "cell_type": "code",
   "execution_count": 24,
   "metadata": {
    "ExecuteTime": {
     "end_time": "2020-12-02T06:29:26.664856Z",
     "start_time": "2020-12-02T06:29:26.643053Z"
    }
   },
   "outputs": [],
   "source": [
    "output.to_csv('output31.csv')"
   ]
  },
  {
   "cell_type": "markdown",
   "metadata": {},
   "source": [
    "# Prophet "
   ]
  },
  {
   "cell_type": "code",
   "execution_count": 24,
   "metadata": {
    "ExecuteTime": {
     "end_time": "2020-12-01T08:34:31.512860Z",
     "start_time": "2020-12-01T08:34:31.442451Z"
    }
   },
   "outputs": [
    {
     "data": {
      "text/html": [
       "<div>\n",
       "<style scoped>\n",
       "    .dataframe tbody tr th:only-of-type {\n",
       "        vertical-align: middle;\n",
       "    }\n",
       "\n",
       "    .dataframe tbody tr th {\n",
       "        vertical-align: top;\n",
       "    }\n",
       "\n",
       "    .dataframe thead th {\n",
       "        text-align: right;\n",
       "    }\n",
       "</style>\n",
       "<table border=\"1\" class=\"dataframe\">\n",
       "  <thead>\n",
       "    <tr style=\"text-align: right;\">\n",
       "      <th></th>\n",
       "      <th>id</th>\n",
       "      <th>ds</th>\n",
       "      <th>y</th>\n",
       "    </tr>\n",
       "  </thead>\n",
       "  <tbody>\n",
       "    <tr>\n",
       "      <th>0</th>\n",
       "      <td>0</td>\n",
       "      <td>2017-01-01 00:00:00</td>\n",
       "      <td>43.002930</td>\n",
       "    </tr>\n",
       "    <tr>\n",
       "      <th>1</th>\n",
       "      <td>1</td>\n",
       "      <td>2017-01-01 01:00:00</td>\n",
       "      <td>46.118696</td>\n",
       "    </tr>\n",
       "    <tr>\n",
       "      <th>2</th>\n",
       "      <td>2</td>\n",
       "      <td>2017-01-01 02:00:00</td>\n",
       "      <td>44.294158</td>\n",
       "    </tr>\n",
       "    <tr>\n",
       "      <th>3</th>\n",
       "      <td>3</td>\n",
       "      <td>2017-01-01 03:00:00</td>\n",
       "      <td>41.067468</td>\n",
       "    </tr>\n",
       "    <tr>\n",
       "      <th>4</th>\n",
       "      <td>4</td>\n",
       "      <td>2017-01-01 04:00:00</td>\n",
       "      <td>46.448653</td>\n",
       "    </tr>\n",
       "  </tbody>\n",
       "</table>\n",
       "</div>"
      ],
      "text/plain": [
       "   id                  ds          y\n",
       "0   0 2017-01-01 00:00:00  43.002930\n",
       "1   1 2017-01-01 01:00:00  46.118696\n",
       "2   2 2017-01-01 02:00:00  44.294158\n",
       "3   3 2017-01-01 03:00:00  41.067468\n",
       "4   4 2017-01-01 04:00:00  46.448653"
      ]
     },
     "execution_count": 24,
     "metadata": {},
     "output_type": "execute_result"
    }
   ],
   "source": [
    "speed = pd.read_csv('train.csv')\n",
    "speed['date']=pd.to_datetime(speed['date'],format='%d/%m/%Y %H:%M')\n",
    "speed.rename(columns = {\"date\": \"ds\", \"speed\":\"y\"},  inplace=True)\n",
    "# speed.set_index('ds', inplace=True) \n",
    "# speed = speed.drop(columns='id',axis= 1)\n",
    "speed.head()"
   ]
  },
  {
   "cell_type": "code",
   "execution_count": 34,
   "metadata": {
    "ExecuteTime": {
     "end_time": "2020-12-01T08:48:08.552488Z",
     "start_time": "2020-12-01T08:48:04.867644Z"
    }
   },
   "outputs": [
    {
     "name": "stderr",
     "output_type": "stream",
     "text": [
      "INFO:fbprophet:Disabling yearly seasonality. Run prophet with yearly_seasonality=True to override this.\n"
     ]
    },
    {
     "data": {
      "text/plain": [
       "<fbprophet.forecaster.Prophet at 0x7fdcaee49be0>"
      ]
     },
     "execution_count": 34,
     "metadata": {},
     "output_type": "execute_result"
    }
   ],
   "source": [
    "# features_and_target = pd.concat([X_train, y_train], axis=1).rename(columns={'date':'ds',\n",
    "#                      'speed':'y'})\n",
    "# features_and_target.head()\n",
    "reg = Prophet(yearly_seasonality=True)\n",
    "reg.fit(speed)"
   ]
  },
  {
   "cell_type": "code",
   "execution_count": 35,
   "metadata": {
    "ExecuteTime": {
     "end_time": "2020-12-01T08:48:13.032325Z",
     "start_time": "2020-12-01T08:48:10.050921Z"
    }
   },
   "outputs": [
    {
     "data": {
      "text/html": [
       "<div>\n",
       "<style scoped>\n",
       "    .dataframe tbody tr th:only-of-type {\n",
       "        vertical-align: middle;\n",
       "    }\n",
       "\n",
       "    .dataframe tbody tr th {\n",
       "        vertical-align: top;\n",
       "    }\n",
       "\n",
       "    .dataframe thead th {\n",
       "        text-align: right;\n",
       "    }\n",
       "</style>\n",
       "<table border=\"1\" class=\"dataframe\">\n",
       "  <thead>\n",
       "    <tr style=\"text-align: right;\">\n",
       "      <th></th>\n",
       "      <th>speed</th>\n",
       "    </tr>\n",
       "    <tr>\n",
       "      <th>date</th>\n",
       "      <th></th>\n",
       "    </tr>\n",
       "  </thead>\n",
       "  <tbody>\n",
       "    <tr>\n",
       "      <th>2018-01-01 02:00:00</th>\n",
       "      <td>52.656908</td>\n",
       "    </tr>\n",
       "    <tr>\n",
       "      <th>2018-01-01 05:00:00</th>\n",
       "      <td>49.644341</td>\n",
       "    </tr>\n",
       "    <tr>\n",
       "      <th>2018-01-01 07:00:00</th>\n",
       "      <td>34.547263</td>\n",
       "    </tr>\n",
       "    <tr>\n",
       "      <th>2018-01-01 08:00:00</th>\n",
       "      <td>28.027796</td>\n",
       "    </tr>\n",
       "    <tr>\n",
       "      <th>2018-01-01 10:00:00</th>\n",
       "      <td>23.689161</td>\n",
       "    </tr>\n",
       "  </tbody>\n",
       "</table>\n",
       "</div>"
      ],
      "text/plain": [
       "                         speed\n",
       "date                          \n",
       "2018-01-01 02:00:00  52.656908\n",
       "2018-01-01 05:00:00  49.644341\n",
       "2018-01-01 07:00:00  34.547263\n",
       "2018-01-01 08:00:00  28.027796\n",
       "2018-01-01 10:00:00  23.689161"
      ]
     },
     "execution_count": 35,
     "metadata": {},
     "output_type": "execute_result"
    }
   ],
   "source": [
    "ts = pd.read_csv('test.csv')\n",
    "ts['date'] = pd.to_datetime(ts['date'],format='%d/%m/%Y %H:%M')\n",
    "ts.rename(columns = {\"date\": \"ds\"},  inplace=True)\n",
    "# ts.set_index('date', inplace=True) \n",
    "# # ts = ts.drop(columns='id',axis= 1)\n",
    "# X_ts = create_features(ts)\n",
    "fore = reg.predict(ts)\n",
    "ts['speed'] = fore['yhat']\n",
    "ts.rename(columns = {\"ds\": \"date\"},  inplace=True)\n",
    "ts.set_index('date', inplace=True) \n",
    "ts = ts.drop(columns='id',axis= 1)\n",
    "ts.head()"
   ]
  },
  {
   "cell_type": "code",
   "execution_count": 31,
   "metadata": {
    "ExecuteTime": {
     "end_time": "2020-12-01T08:46:22.106064Z",
     "start_time": "2020-12-01T08:46:22.071557Z"
    }
   },
   "outputs": [
    {
     "data": {
      "text/html": [
       "<div>\n",
       "<style scoped>\n",
       "    .dataframe tbody tr th:only-of-type {\n",
       "        vertical-align: middle;\n",
       "    }\n",
       "\n",
       "    .dataframe tbody tr th {\n",
       "        vertical-align: top;\n",
       "    }\n",
       "\n",
       "    .dataframe thead th {\n",
       "        text-align: right;\n",
       "    }\n",
       "</style>\n",
       "<table border=\"1\" class=\"dataframe\">\n",
       "  <thead>\n",
       "    <tr style=\"text-align: right;\">\n",
       "      <th></th>\n",
       "      <th>ds</th>\n",
       "      <th>trend</th>\n",
       "      <th>yhat_lower</th>\n",
       "      <th>yhat_upper</th>\n",
       "      <th>trend_lower</th>\n",
       "      <th>trend_upper</th>\n",
       "      <th>additive_terms</th>\n",
       "      <th>additive_terms_lower</th>\n",
       "      <th>additive_terms_upper</th>\n",
       "      <th>daily</th>\n",
       "      <th>...</th>\n",
       "      <th>weekly</th>\n",
       "      <th>weekly_lower</th>\n",
       "      <th>weekly_upper</th>\n",
       "      <th>yearly</th>\n",
       "      <th>yearly_lower</th>\n",
       "      <th>yearly_upper</th>\n",
       "      <th>multiplicative_terms</th>\n",
       "      <th>multiplicative_terms_lower</th>\n",
       "      <th>multiplicative_terms_upper</th>\n",
       "      <th>yhat</th>\n",
       "    </tr>\n",
       "  </thead>\n",
       "  <tbody>\n",
       "    <tr>\n",
       "      <th>0</th>\n",
       "      <td>2018-01-01 02:00:00</td>\n",
       "      <td>32.839861</td>\n",
       "      <td>45.784067</td>\n",
       "      <td>63.618385</td>\n",
       "      <td>32.839861</td>\n",
       "      <td>32.839861</td>\n",
       "      <td>21.377392</td>\n",
       "      <td>21.377392</td>\n",
       "      <td>21.377392</td>\n",
       "      <td>14.981224</td>\n",
       "      <td>...</td>\n",
       "      <td>4.638009</td>\n",
       "      <td>4.638009</td>\n",
       "      <td>4.638009</td>\n",
       "      <td>1.758159</td>\n",
       "      <td>1.758159</td>\n",
       "      <td>1.758159</td>\n",
       "      <td>0.0</td>\n",
       "      <td>0.0</td>\n",
       "      <td>0.0</td>\n",
       "      <td>54.217253</td>\n",
       "    </tr>\n",
       "    <tr>\n",
       "      <th>1</th>\n",
       "      <td>2018-01-01 05:00:00</td>\n",
       "      <td>32.839982</td>\n",
       "      <td>42.389592</td>\n",
       "      <td>59.703867</td>\n",
       "      <td>32.839982</td>\n",
       "      <td>32.839982</td>\n",
       "      <td>18.355988</td>\n",
       "      <td>18.355988</td>\n",
       "      <td>18.355988</td>\n",
       "      <td>13.542961</td>\n",
       "      <td>...</td>\n",
       "      <td>3.061551</td>\n",
       "      <td>3.061551</td>\n",
       "      <td>3.061551</td>\n",
       "      <td>1.751476</td>\n",
       "      <td>1.751476</td>\n",
       "      <td>1.751476</td>\n",
       "      <td>0.0</td>\n",
       "      <td>0.0</td>\n",
       "      <td>0.0</td>\n",
       "      <td>51.195970</td>\n",
       "    </tr>\n",
       "    <tr>\n",
       "      <th>2</th>\n",
       "      <td>2018-01-01 07:00:00</td>\n",
       "      <td>32.840062</td>\n",
       "      <td>27.080551</td>\n",
       "      <td>44.380979</td>\n",
       "      <td>32.840062</td>\n",
       "      <td>32.840062</td>\n",
       "      <td>3.259932</td>\n",
       "      <td>3.259932</td>\n",
       "      <td>3.259932</td>\n",
       "      <td>-0.492593</td>\n",
       "      <td>...</td>\n",
       "      <td>2.005747</td>\n",
       "      <td>2.005747</td>\n",
       "      <td>2.005747</td>\n",
       "      <td>1.746778</td>\n",
       "      <td>1.746778</td>\n",
       "      <td>1.746778</td>\n",
       "      <td>0.0</td>\n",
       "      <td>0.0</td>\n",
       "      <td>0.0</td>\n",
       "      <td>36.099994</td>\n",
       "    </tr>\n",
       "    <tr>\n",
       "      <th>3</th>\n",
       "      <td>2018-01-01 08:00:00</td>\n",
       "      <td>32.840103</td>\n",
       "      <td>21.034743</td>\n",
       "      <td>37.879893</td>\n",
       "      <td>32.840103</td>\n",
       "      <td>32.840103</td>\n",
       "      <td>-3.259885</td>\n",
       "      <td>-3.259885</td>\n",
       "      <td>-3.259885</td>\n",
       "      <td>-6.492979</td>\n",
       "      <td>...</td>\n",
       "      <td>1.488736</td>\n",
       "      <td>1.488736</td>\n",
       "      <td>1.488736</td>\n",
       "      <td>1.744357</td>\n",
       "      <td>1.744357</td>\n",
       "      <td>1.744357</td>\n",
       "      <td>0.0</td>\n",
       "      <td>0.0</td>\n",
       "      <td>0.0</td>\n",
       "      <td>29.580218</td>\n",
       "    </tr>\n",
       "    <tr>\n",
       "      <th>4</th>\n",
       "      <td>2018-01-01 10:00:00</td>\n",
       "      <td>32.840184</td>\n",
       "      <td>16.523213</td>\n",
       "      <td>33.563412</td>\n",
       "      <td>32.840184</td>\n",
       "      <td>32.840184</td>\n",
       "      <td>-7.604272</td>\n",
       "      <td>-7.604272</td>\n",
       "      <td>-7.604272</td>\n",
       "      <td>-9.839345</td>\n",
       "      <td>...</td>\n",
       "      <td>0.495701</td>\n",
       "      <td>0.495701</td>\n",
       "      <td>0.495701</td>\n",
       "      <td>1.739372</td>\n",
       "      <td>1.739372</td>\n",
       "      <td>1.739372</td>\n",
       "      <td>0.0</td>\n",
       "      <td>0.0</td>\n",
       "      <td>0.0</td>\n",
       "      <td>25.235911</td>\n",
       "    </tr>\n",
       "    <tr>\n",
       "      <th>...</th>\n",
       "      <td>...</td>\n",
       "      <td>...</td>\n",
       "      <td>...</td>\n",
       "      <td>...</td>\n",
       "      <td>...</td>\n",
       "      <td>...</td>\n",
       "      <td>...</td>\n",
       "      <td>...</td>\n",
       "      <td>...</td>\n",
       "      <td>...</td>\n",
       "      <td>...</td>\n",
       "      <td>...</td>\n",
       "      <td>...</td>\n",
       "      <td>...</td>\n",
       "      <td>...</td>\n",
       "      <td>...</td>\n",
       "      <td>...</td>\n",
       "      <td>...</td>\n",
       "      <td>...</td>\n",
       "      <td>...</td>\n",
       "      <td>...</td>\n",
       "    </tr>\n",
       "    <tr>\n",
       "      <th>3499</th>\n",
       "      <td>2018-12-31 17:00:00</td>\n",
       "      <td>33.192883</td>\n",
       "      <td>9.429672</td>\n",
       "      <td>26.345423</td>\n",
       "      <td>33.192883</td>\n",
       "      <td>33.192883</td>\n",
       "      <td>-15.139898</td>\n",
       "      <td>-15.139898</td>\n",
       "      <td>-15.139898</td>\n",
       "      <td>-14.701561</td>\n",
       "      <td>...</td>\n",
       "      <td>-2.223259</td>\n",
       "      <td>-2.223259</td>\n",
       "      <td>-2.223259</td>\n",
       "      <td>1.784921</td>\n",
       "      <td>1.784921</td>\n",
       "      <td>1.784921</td>\n",
       "      <td>0.0</td>\n",
       "      <td>0.0</td>\n",
       "      <td>0.0</td>\n",
       "      <td>18.052985</td>\n",
       "    </tr>\n",
       "    <tr>\n",
       "      <th>3500</th>\n",
       "      <td>2018-12-31 19:00:00</td>\n",
       "      <td>33.192964</td>\n",
       "      <td>17.966503</td>\n",
       "      <td>34.375457</td>\n",
       "      <td>33.192964</td>\n",
       "      <td>33.192964</td>\n",
       "      <td>-6.988539</td>\n",
       "      <td>-6.988539</td>\n",
       "      <td>-6.988539</td>\n",
       "      <td>-6.057545</td>\n",
       "      <td>...</td>\n",
       "      <td>-2.712997</td>\n",
       "      <td>-2.712997</td>\n",
       "      <td>-2.712997</td>\n",
       "      <td>1.782002</td>\n",
       "      <td>1.782002</td>\n",
       "      <td>1.782002</td>\n",
       "      <td>0.0</td>\n",
       "      <td>0.0</td>\n",
       "      <td>0.0</td>\n",
       "      <td>26.204425</td>\n",
       "    </tr>\n",
       "    <tr>\n",
       "      <th>3501</th>\n",
       "      <td>2018-12-31 21:00:00</td>\n",
       "      <td>33.193045</td>\n",
       "      <td>29.729390</td>\n",
       "      <td>47.453979</td>\n",
       "      <td>33.193045</td>\n",
       "      <td>33.193045</td>\n",
       "      <td>5.162631</td>\n",
       "      <td>5.162631</td>\n",
       "      <td>5.162631</td>\n",
       "      <td>6.444796</td>\n",
       "      <td>...</td>\n",
       "      <td>-3.061047</td>\n",
       "      <td>-3.061047</td>\n",
       "      <td>-3.061047</td>\n",
       "      <td>1.778882</td>\n",
       "      <td>1.778882</td>\n",
       "      <td>1.778882</td>\n",
       "      <td>0.0</td>\n",
       "      <td>0.0</td>\n",
       "      <td>0.0</td>\n",
       "      <td>38.355676</td>\n",
       "    </tr>\n",
       "    <tr>\n",
       "      <th>3502</th>\n",
       "      <td>2018-12-31 22:00:00</td>\n",
       "      <td>33.193085</td>\n",
       "      <td>32.903577</td>\n",
       "      <td>50.677881</td>\n",
       "      <td>33.193085</td>\n",
       "      <td>33.193085</td>\n",
       "      <td>8.555443</td>\n",
       "      <td>8.555443</td>\n",
       "      <td>8.555443</td>\n",
       "      <td>9.960600</td>\n",
       "      <td>...</td>\n",
       "      <td>-3.182402</td>\n",
       "      <td>-3.182402</td>\n",
       "      <td>-3.182402</td>\n",
       "      <td>1.777246</td>\n",
       "      <td>1.777246</td>\n",
       "      <td>1.777246</td>\n",
       "      <td>0.0</td>\n",
       "      <td>0.0</td>\n",
       "      <td>0.0</td>\n",
       "      <td>41.748529</td>\n",
       "    </tr>\n",
       "    <tr>\n",
       "      <th>3503</th>\n",
       "      <td>2018-12-31 23:00:00</td>\n",
       "      <td>33.193125</td>\n",
       "      <td>33.708202</td>\n",
       "      <td>52.453766</td>\n",
       "      <td>33.193125</td>\n",
       "      <td>33.193125</td>\n",
       "      <td>9.747888</td>\n",
       "      <td>9.747888</td>\n",
       "      <td>9.747888</td>\n",
       "      <td>11.241955</td>\n",
       "      <td>...</td>\n",
       "      <td>-3.269628</td>\n",
       "      <td>-3.269628</td>\n",
       "      <td>-3.269628</td>\n",
       "      <td>1.775561</td>\n",
       "      <td>1.775561</td>\n",
       "      <td>1.775561</td>\n",
       "      <td>0.0</td>\n",
       "      <td>0.0</td>\n",
       "      <td>0.0</td>\n",
       "      <td>42.941013</td>\n",
       "    </tr>\n",
       "  </tbody>\n",
       "</table>\n",
       "<p>3504 rows × 22 columns</p>\n",
       "</div>"
      ],
      "text/plain": [
       "                      ds      trend  yhat_lower  yhat_upper  trend_lower  \\\n",
       "0    2018-01-01 02:00:00  32.839861   45.784067   63.618385    32.839861   \n",
       "1    2018-01-01 05:00:00  32.839982   42.389592   59.703867    32.839982   \n",
       "2    2018-01-01 07:00:00  32.840062   27.080551   44.380979    32.840062   \n",
       "3    2018-01-01 08:00:00  32.840103   21.034743   37.879893    32.840103   \n",
       "4    2018-01-01 10:00:00  32.840184   16.523213   33.563412    32.840184   \n",
       "...                  ...        ...         ...         ...          ...   \n",
       "3499 2018-12-31 17:00:00  33.192883    9.429672   26.345423    33.192883   \n",
       "3500 2018-12-31 19:00:00  33.192964   17.966503   34.375457    33.192964   \n",
       "3501 2018-12-31 21:00:00  33.193045   29.729390   47.453979    33.193045   \n",
       "3502 2018-12-31 22:00:00  33.193085   32.903577   50.677881    33.193085   \n",
       "3503 2018-12-31 23:00:00  33.193125   33.708202   52.453766    33.193125   \n",
       "\n",
       "      trend_upper  additive_terms  additive_terms_lower  additive_terms_upper  \\\n",
       "0       32.839861       21.377392             21.377392             21.377392   \n",
       "1       32.839982       18.355988             18.355988             18.355988   \n",
       "2       32.840062        3.259932              3.259932              3.259932   \n",
       "3       32.840103       -3.259885             -3.259885             -3.259885   \n",
       "4       32.840184       -7.604272             -7.604272             -7.604272   \n",
       "...           ...             ...                   ...                   ...   \n",
       "3499    33.192883      -15.139898            -15.139898            -15.139898   \n",
       "3500    33.192964       -6.988539             -6.988539             -6.988539   \n",
       "3501    33.193045        5.162631              5.162631              5.162631   \n",
       "3502    33.193085        8.555443              8.555443              8.555443   \n",
       "3503    33.193125        9.747888              9.747888              9.747888   \n",
       "\n",
       "          daily  ...    weekly  weekly_lower  weekly_upper    yearly  \\\n",
       "0     14.981224  ...  4.638009      4.638009      4.638009  1.758159   \n",
       "1     13.542961  ...  3.061551      3.061551      3.061551  1.751476   \n",
       "2     -0.492593  ...  2.005747      2.005747      2.005747  1.746778   \n",
       "3     -6.492979  ...  1.488736      1.488736      1.488736  1.744357   \n",
       "4     -9.839345  ...  0.495701      0.495701      0.495701  1.739372   \n",
       "...         ...  ...       ...           ...           ...       ...   \n",
       "3499 -14.701561  ... -2.223259     -2.223259     -2.223259  1.784921   \n",
       "3500  -6.057545  ... -2.712997     -2.712997     -2.712997  1.782002   \n",
       "3501   6.444796  ... -3.061047     -3.061047     -3.061047  1.778882   \n",
       "3502   9.960600  ... -3.182402     -3.182402     -3.182402  1.777246   \n",
       "3503  11.241955  ... -3.269628     -3.269628     -3.269628  1.775561   \n",
       "\n",
       "      yearly_lower  yearly_upper  multiplicative_terms  \\\n",
       "0         1.758159      1.758159                   0.0   \n",
       "1         1.751476      1.751476                   0.0   \n",
       "2         1.746778      1.746778                   0.0   \n",
       "3         1.744357      1.744357                   0.0   \n",
       "4         1.739372      1.739372                   0.0   \n",
       "...            ...           ...                   ...   \n",
       "3499      1.784921      1.784921                   0.0   \n",
       "3500      1.782002      1.782002                   0.0   \n",
       "3501      1.778882      1.778882                   0.0   \n",
       "3502      1.777246      1.777246                   0.0   \n",
       "3503      1.775561      1.775561                   0.0   \n",
       "\n",
       "      multiplicative_terms_lower  multiplicative_terms_upper       yhat  \n",
       "0                            0.0                         0.0  54.217253  \n",
       "1                            0.0                         0.0  51.195970  \n",
       "2                            0.0                         0.0  36.099994  \n",
       "3                            0.0                         0.0  29.580218  \n",
       "4                            0.0                         0.0  25.235911  \n",
       "...                          ...                         ...        ...  \n",
       "3499                         0.0                         0.0  18.052985  \n",
       "3500                         0.0                         0.0  26.204425  \n",
       "3501                         0.0                         0.0  38.355676  \n",
       "3502                         0.0                         0.0  41.748529  \n",
       "3503                         0.0                         0.0  42.941013  \n",
       "\n",
       "[3504 rows x 22 columns]"
      ]
     },
     "execution_count": 31,
     "metadata": {},
     "output_type": "execute_result"
    }
   ],
   "source": [
    "fore"
   ]
  },
  {
   "cell_type": "markdown",
   "metadata": {},
   "source": [
    "# tunning"
   ]
  },
  {
   "cell_type": "code",
   "execution_count": 5,
   "metadata": {
    "ExecuteTime": {
     "end_time": "2020-11-21T15:14:42.656917Z",
     "start_time": "2020-11-21T15:14:42.648375Z"
    }
   },
   "outputs": [],
   "source": [
    "from sklearn.model_selection import GridSearchCV\n",
    "def model_cv(model, X, y, cv_folds=5, early_stopping_rounds=50, seed=0):\n",
    "    xgb_param = model.get_xgb_params()\n",
    "    xgtrain = xgb.DMatrix(X, label=y)\n",
    "    cvresult = xgb.cv(xgb_param, xgtrain, num_boost_round=model.get_params()['n_estimators'], nfold=cv_folds,\n",
    "                    metrics='auc', seed=seed, callbacks=[\n",
    "            xgb.callback.print_evaluation(show_stdv=False),\n",
    "            xgb.callback.early_stop(early_stopping_rounds)\n",
    "       ])\n",
    "    num_round_best = cvresult.shape[0] - 1\n",
    "    print('Best round num: ', num_round_best)\n",
    "    return num_round_best\n"
   ]
  },
  {
   "cell_type": "code",
   "execution_count": 18,
   "metadata": {
    "ExecuteTime": {
     "end_time": "2020-11-21T15:19:28.495872Z",
     "start_time": "2020-11-21T15:19:28.491129Z"
    }
   },
   "outputs": [],
   "source": [
    "# cv_params = {'n_estimators': [70, 80, 90, 100, 110]}\n",
    "# cv_params = {'n_estimators': [40, 50, 60, 70]}\n",
    "# cv_params = {'max_depth': [3, 4, 5, 6], 'min_child_weight': [1, 2, 3, 4]}\n",
    "# cv_params = {'gamma': [0.1, 0.2, 0.3, 0.4, 0.5, 0.6]}\n",
    "# cv_params = {'subsample': [0.6, 0.7, 0.8, 0.9], 'colsample_bytree': [0.8, 0.9, 1.0, 1.1]}\n",
    "# cv_params = {'reg_alpha': [0.05, 0.1, 1, 2, 3], 'reg_lambda': [0.05, 0.1, 1, 2, 3]}\n",
    "# cv_params = {'reg_alpha': [0.01, 0.03, 0.05, 0.1], 'reg_lambda': [0.05, 0.1, 1, 2, 3]}\n",
    "cv_params = {'learning_rate': [0.01, 0.05, 0.07, 0.1, 0.2]}\n",
    "other_params = {'learning_rate': 0.1, 'n_estimators': 80, 'max_depth': 4, 'min_child_weight': 3, 'seed': 0,\n",
    "                'subsample': 0.7, 'colsample_bytree': 1.0, 'gamma': 0.3, 'reg_alpha': 0.1, 'reg_lambda': 2}"
   ]
  },
  {
   "cell_type": "code",
   "execution_count": 19,
   "metadata": {
    "ExecuteTime": {
     "end_time": "2020-11-21T15:19:39.076090Z",
     "start_time": "2020-11-21T15:19:28.882486Z"
    }
   },
   "outputs": [
    {
     "name": "stdout",
     "output_type": "stream",
     "text": [
      "Fitting 5 folds for each of 5 candidates, totalling 25 fits\n"
     ]
    },
    {
     "name": "stderr",
     "output_type": "stream",
     "text": [
      "[Parallel(n_jobs=5)]: Using backend LokyBackend with 5 concurrent workers.\n",
      "[Parallel(n_jobs=5)]: Done  25 out of  25 | elapsed:    9.7s finished\n"
     ]
    },
    {
     "name": "stdout",
     "output_type": "stream",
     "text": [
      "平均得分:[-0.46682865  0.89476864  0.90093824  0.9035381   0.8978096 ]\n",
      "参数:[{'learning_rate': 0.01}, {'learning_rate': 0.05}, {'learning_rate': 0.07}, {'learning_rate': 0.1}, {'learning_rate': 0.2}]\n",
      "参数的最佳取值：{'learning_rate': 0.1}\n",
      "最佳模型得分:0.903538102301965\n"
     ]
    }
   ],
   "source": [
    "model = xgb.XGBRegressor(**other_params)\n",
    "optimized_GBM = GridSearchCV(estimator=model, param_grid=cv_params, scoring='r2', cv=5, verbose=1, n_jobs=5)\n",
    "optimized_GBM.fit(X_train, y_train)\n",
    "evalute_result = optimized_GBM.cv_results_\n",
    "print('平均得分:{0}'.format(evalute_result['mean_test_score']))\n",
    "print('参数:{0}'.format(evalute_result['params']))\n",
    "print('参数的最佳取值：{0}'.format(optimized_GBM.best_params_))\n",
    "print('最佳模型得分:{0}'.format(optimized_GBM.best_score_))"
   ]
  },
  {
   "cell_type": "code",
   "execution_count": 20,
   "metadata": {
    "ExecuteTime": {
     "end_time": "2020-11-21T15:19:55.464838Z",
     "start_time": "2020-11-21T15:19:54.925486Z"
    }
   },
   "outputs": [
    {
     "data": {
      "text/plain": [
       "XGBRegressor(base_score=0.5, booster='gbtree', colsample_bylevel=1,\n",
       "             colsample_bynode=1, colsample_bytree=1.0, gamma=0.3, gpu_id=-1,\n",
       "             importance_type='gain', interaction_constraints='',\n",
       "             learning_rate=0.1, max_delta_step=0, max_depth=4,\n",
       "             min_child_weight=3, missing=nan, monotone_constraints='()',\n",
       "             n_estimators=80, n_jobs=0, num_parallel_tree=1, random_state=0,\n",
       "             reg_alpha=0.1, reg_lambda=2, scale_pos_weight=1, seed=0,\n",
       "             subsample=0.7, tree_method='exact', validate_parameters=1,\n",
       "             verbosity=None)"
      ]
     },
     "execution_count": 20,
     "metadata": {},
     "output_type": "execute_result"
    }
   ],
   "source": [
    "model = xgb.XGBRegressor(learning_rate=0.1, n_estimators=80, max_depth=4, min_child_weight=3, seed=0,\n",
    "                             subsample=0.7, colsample_bytree=1.0, gamma=0.3, reg_alpha=0.1, reg_lambda=2)\n",
    "model.fit(X_train, y_train)"
   ]
  },
  {
   "cell_type": "code",
   "execution_count": 22,
   "metadata": {
    "ExecuteTime": {
     "end_time": "2020-11-21T15:20:23.349097Z",
     "start_time": "2020-11-21T15:20:23.280307Z"
    }
   },
   "outputs": [
    {
     "data": {
      "text/html": [
       "<div>\n",
       "<style scoped>\n",
       "    .dataframe tbody tr th:only-of-type {\n",
       "        vertical-align: middle;\n",
       "    }\n",
       "\n",
       "    .dataframe tbody tr th {\n",
       "        vertical-align: top;\n",
       "    }\n",
       "\n",
       "    .dataframe thead th {\n",
       "        text-align: right;\n",
       "    }\n",
       "</style>\n",
       "<table border=\"1\" class=\"dataframe\">\n",
       "  <thead>\n",
       "    <tr style=\"text-align: right;\">\n",
       "      <th></th>\n",
       "      <th>id</th>\n",
       "      <th>date</th>\n",
       "      <th>hour</th>\n",
       "      <th>dayofweek</th>\n",
       "      <th>quarter</th>\n",
       "      <th>month</th>\n",
       "      <th>year</th>\n",
       "      <th>dayofyear</th>\n",
       "      <th>dayofmonth</th>\n",
       "      <th>weekofyear</th>\n",
       "      <th>speed</th>\n",
       "    </tr>\n",
       "    <tr>\n",
       "      <th>date</th>\n",
       "      <th></th>\n",
       "      <th></th>\n",
       "      <th></th>\n",
       "      <th></th>\n",
       "      <th></th>\n",
       "      <th></th>\n",
       "      <th></th>\n",
       "      <th></th>\n",
       "      <th></th>\n",
       "      <th></th>\n",
       "      <th></th>\n",
       "    </tr>\n",
       "  </thead>\n",
       "  <tbody>\n",
       "    <tr>\n",
       "      <th>2018-01-01 02:00:00</th>\n",
       "      <td>0</td>\n",
       "      <td>2018-01-01 02:00:00</td>\n",
       "      <td>2</td>\n",
       "      <td>0</td>\n",
       "      <td>1</td>\n",
       "      <td>1</td>\n",
       "      <td>2018</td>\n",
       "      <td>1</td>\n",
       "      <td>1</td>\n",
       "      <td>1</td>\n",
       "      <td>48.356270</td>\n",
       "    </tr>\n",
       "    <tr>\n",
       "      <th>2018-01-01 05:00:00</th>\n",
       "      <td>1</td>\n",
       "      <td>2018-01-01 05:00:00</td>\n",
       "      <td>5</td>\n",
       "      <td>0</td>\n",
       "      <td>1</td>\n",
       "      <td>1</td>\n",
       "      <td>2018</td>\n",
       "      <td>1</td>\n",
       "      <td>1</td>\n",
       "      <td>1</td>\n",
       "      <td>47.754513</td>\n",
       "    </tr>\n",
       "    <tr>\n",
       "      <th>2018-01-01 07:00:00</th>\n",
       "      <td>2</td>\n",
       "      <td>2018-01-01 07:00:00</td>\n",
       "      <td>7</td>\n",
       "      <td>0</td>\n",
       "      <td>1</td>\n",
       "      <td>1</td>\n",
       "      <td>2018</td>\n",
       "      <td>1</td>\n",
       "      <td>1</td>\n",
       "      <td>1</td>\n",
       "      <td>36.190483</td>\n",
       "    </tr>\n",
       "    <tr>\n",
       "      <th>2018-01-01 08:00:00</th>\n",
       "      <td>3</td>\n",
       "      <td>2018-01-01 08:00:00</td>\n",
       "      <td>8</td>\n",
       "      <td>0</td>\n",
       "      <td>1</td>\n",
       "      <td>1</td>\n",
       "      <td>2018</td>\n",
       "      <td>1</td>\n",
       "      <td>1</td>\n",
       "      <td>1</td>\n",
       "      <td>26.902237</td>\n",
       "    </tr>\n",
       "    <tr>\n",
       "      <th>2018-01-01 10:00:00</th>\n",
       "      <td>4</td>\n",
       "      <td>2018-01-01 10:00:00</td>\n",
       "      <td>10</td>\n",
       "      <td>0</td>\n",
       "      <td>1</td>\n",
       "      <td>1</td>\n",
       "      <td>2018</td>\n",
       "      <td>1</td>\n",
       "      <td>1</td>\n",
       "      <td>1</td>\n",
       "      <td>34.824940</td>\n",
       "    </tr>\n",
       "  </tbody>\n",
       "</table>\n",
       "</div>"
      ],
      "text/plain": [
       "                     id                date  hour  dayofweek  quarter  month  \\\n",
       "date                                                                           \n",
       "2018-01-01 02:00:00   0 2018-01-01 02:00:00     2          0        1      1   \n",
       "2018-01-01 05:00:00   1 2018-01-01 05:00:00     5          0        1      1   \n",
       "2018-01-01 07:00:00   2 2018-01-01 07:00:00     7          0        1      1   \n",
       "2018-01-01 08:00:00   3 2018-01-01 08:00:00     8          0        1      1   \n",
       "2018-01-01 10:00:00   4 2018-01-01 10:00:00    10          0        1      1   \n",
       "\n",
       "                     year  dayofyear  dayofmonth  weekofyear      speed  \n",
       "date                                                                     \n",
       "2018-01-01 02:00:00  2018          1           1           1  48.356270  \n",
       "2018-01-01 05:00:00  2018          1           1           1  47.754513  \n",
       "2018-01-01 07:00:00  2018          1           1           1  36.190483  \n",
       "2018-01-01 08:00:00  2018          1           1           1  26.902237  \n",
       "2018-01-01 10:00:00  2018          1           1           1  34.824940  "
      ]
     },
     "execution_count": 22,
     "metadata": {},
     "output_type": "execute_result"
    }
   ],
   "source": [
    "ts = pd.read_csv('test.csv')\n",
    "ts['date'] = pd.to_datetime(ts['date'],format='%d/%m/%Y %H:%M')\n",
    "ts.set_index('date', inplace=True) \n",
    "# ts = ts.drop(columns='id',axis= 1)\n",
    "X_ts = create_features(ts)\n",
    "ts['speed'] = model.predict(X_ts)\n",
    "\n",
    "\n",
    "ts.head()"
   ]
  },
  {
   "cell_type": "code",
   "execution_count": 23,
   "metadata": {
    "ExecuteTime": {
     "end_time": "2020-11-21T15:20:43.062679Z",
     "start_time": "2020-11-21T15:20:43.052413Z"
    }
   },
   "outputs": [
    {
     "data": {
      "text/html": [
       "<div>\n",
       "<style scoped>\n",
       "    .dataframe tbody tr th:only-of-type {\n",
       "        vertical-align: middle;\n",
       "    }\n",
       "\n",
       "    .dataframe tbody tr th {\n",
       "        vertical-align: top;\n",
       "    }\n",
       "\n",
       "    .dataframe thead th {\n",
       "        text-align: right;\n",
       "    }\n",
       "</style>\n",
       "<table border=\"1\" class=\"dataframe\">\n",
       "  <thead>\n",
       "    <tr style=\"text-align: right;\">\n",
       "      <th></th>\n",
       "      <th>id</th>\n",
       "      <th>speed</th>\n",
       "    </tr>\n",
       "    <tr>\n",
       "      <th>date</th>\n",
       "      <th></th>\n",
       "      <th></th>\n",
       "    </tr>\n",
       "  </thead>\n",
       "  <tbody>\n",
       "    <tr>\n",
       "      <th>2018-01-01 02:00:00</th>\n",
       "      <td>0</td>\n",
       "      <td>48.356270</td>\n",
       "    </tr>\n",
       "    <tr>\n",
       "      <th>2018-01-01 05:00:00</th>\n",
       "      <td>1</td>\n",
       "      <td>47.754513</td>\n",
       "    </tr>\n",
       "    <tr>\n",
       "      <th>2018-01-01 07:00:00</th>\n",
       "      <td>2</td>\n",
       "      <td>36.190483</td>\n",
       "    </tr>\n",
       "    <tr>\n",
       "      <th>2018-01-01 08:00:00</th>\n",
       "      <td>3</td>\n",
       "      <td>26.902237</td>\n",
       "    </tr>\n",
       "    <tr>\n",
       "      <th>2018-01-01 10:00:00</th>\n",
       "      <td>4</td>\n",
       "      <td>34.824940</td>\n",
       "    </tr>\n",
       "  </tbody>\n",
       "</table>\n",
       "</div>"
      ],
      "text/plain": [
       "                     id      speed\n",
       "date                              \n",
       "2018-01-01 02:00:00   0  48.356270\n",
       "2018-01-01 05:00:00   1  47.754513\n",
       "2018-01-01 07:00:00   2  36.190483\n",
       "2018-01-01 08:00:00   3  26.902237\n",
       "2018-01-01 10:00:00   4  34.824940"
      ]
     },
     "execution_count": 23,
     "metadata": {},
     "output_type": "execute_result"
    }
   ],
   "source": [
    "output = ts[['id','speed']]\n",
    "output.head()"
   ]
  },
  {
   "cell_type": "code",
   "execution_count": 24,
   "metadata": {
    "ExecuteTime": {
     "end_time": "2020-11-21T15:20:52.081838Z",
     "start_time": "2020-11-21T15:20:52.072348Z"
    }
   },
   "outputs": [
    {
     "data": {
      "text/html": [
       "<div>\n",
       "<style scoped>\n",
       "    .dataframe tbody tr th:only-of-type {\n",
       "        vertical-align: middle;\n",
       "    }\n",
       "\n",
       "    .dataframe tbody tr th {\n",
       "        vertical-align: top;\n",
       "    }\n",
       "\n",
       "    .dataframe thead th {\n",
       "        text-align: right;\n",
       "    }\n",
       "</style>\n",
       "<table border=\"1\" class=\"dataframe\">\n",
       "  <thead>\n",
       "    <tr style=\"text-align: right;\">\n",
       "      <th></th>\n",
       "      <th>speed</th>\n",
       "    </tr>\n",
       "    <tr>\n",
       "      <th>id</th>\n",
       "      <th></th>\n",
       "    </tr>\n",
       "  </thead>\n",
       "  <tbody>\n",
       "    <tr>\n",
       "      <th>0</th>\n",
       "      <td>48.356270</td>\n",
       "    </tr>\n",
       "    <tr>\n",
       "      <th>1</th>\n",
       "      <td>47.754513</td>\n",
       "    </tr>\n",
       "    <tr>\n",
       "      <th>2</th>\n",
       "      <td>36.190483</td>\n",
       "    </tr>\n",
       "    <tr>\n",
       "      <th>3</th>\n",
       "      <td>26.902237</td>\n",
       "    </tr>\n",
       "    <tr>\n",
       "      <th>4</th>\n",
       "      <td>34.824940</td>\n",
       "    </tr>\n",
       "  </tbody>\n",
       "</table>\n",
       "</div>"
      ],
      "text/plain": [
       "        speed\n",
       "id           \n",
       "0   48.356270\n",
       "1   47.754513\n",
       "2   36.190483\n",
       "3   26.902237\n",
       "4   34.824940"
      ]
     },
     "execution_count": 24,
     "metadata": {},
     "output_type": "execute_result"
    }
   ],
   "source": [
    "output.set_index('id', inplace=True) \n",
    "output.head()"
   ]
  },
  {
   "cell_type": "code",
   "execution_count": 25,
   "metadata": {
    "ExecuteTime": {
     "end_time": "2020-11-21T15:21:01.374957Z",
     "start_time": "2020-11-21T15:21:01.358304Z"
    }
   },
   "outputs": [],
   "source": [
    "output.to_csv('output11.csv')"
   ]
  },
  {
   "cell_type": "markdown",
   "metadata": {},
   "source": [
    "# tunning2"
   ]
  },
  {
   "cell_type": "code",
   "execution_count": 15,
   "metadata": {
    "ExecuteTime": {
     "end_time": "2020-12-01T07:46:37.454438Z",
     "start_time": "2020-12-01T07:46:37.448594Z"
    }
   },
   "outputs": [],
   "source": [
    "import warnings\n",
    "warnings.filterwarnings(\"ignore\")"
   ]
  },
  {
   "cell_type": "code",
   "execution_count": 204,
   "metadata": {
    "ExecuteTime": {
     "end_time": "2020-12-01T08:10:52.487086Z",
     "start_time": "2020-12-01T08:10:52.456970Z"
    }
   },
   "outputs": [],
   "source": [
    "split_date = '01-Oct-2018'\n",
    "speed_test = speed.loc[speed.index > split_date].copy()\n",
    "speed_train = speed.loc[speed.index <= split_date].copy()\n",
    "X_test, Y_test = create_features(speed_test, label='speed')\n",
    "X_train, Y_train = create_features(speed_train, label='speed')"
   ]
  },
  {
   "cell_type": "code",
   "execution_count": 205,
   "metadata": {
    "ExecuteTime": {
     "end_time": "2020-12-01T08:10:53.574331Z",
     "start_time": "2020-12-01T08:10:53.556744Z"
    }
   },
   "outputs": [
    {
     "data": {
      "text/html": [
       "<div>\n",
       "<style scoped>\n",
       "    .dataframe tbody tr th:only-of-type {\n",
       "        vertical-align: middle;\n",
       "    }\n",
       "\n",
       "    .dataframe tbody tr th {\n",
       "        vertical-align: top;\n",
       "    }\n",
       "\n",
       "    .dataframe thead th {\n",
       "        text-align: right;\n",
       "    }\n",
       "</style>\n",
       "<table border=\"1\" class=\"dataframe\">\n",
       "  <thead>\n",
       "    <tr style=\"text-align: right;\">\n",
       "      <th></th>\n",
       "      <th>hour</th>\n",
       "      <th>dayofweek</th>\n",
       "      <th>quarter</th>\n",
       "      <th>month</th>\n",
       "      <th>year</th>\n",
       "      <th>dayofyear</th>\n",
       "      <th>dayofmonth</th>\n",
       "      <th>weekofyear</th>\n",
       "    </tr>\n",
       "    <tr>\n",
       "      <th>date</th>\n",
       "      <th></th>\n",
       "      <th></th>\n",
       "      <th></th>\n",
       "      <th></th>\n",
       "      <th></th>\n",
       "      <th></th>\n",
       "      <th></th>\n",
       "      <th></th>\n",
       "    </tr>\n",
       "  </thead>\n",
       "  <tbody>\n",
       "    <tr>\n",
       "      <th>2018-10-01 02:00:00</th>\n",
       "      <td>2</td>\n",
       "      <td>0</td>\n",
       "      <td>4</td>\n",
       "      <td>10</td>\n",
       "      <td>2018</td>\n",
       "      <td>274</td>\n",
       "      <td>1</td>\n",
       "      <td>40</td>\n",
       "    </tr>\n",
       "    <tr>\n",
       "      <th>2018-10-01 04:00:00</th>\n",
       "      <td>4</td>\n",
       "      <td>0</td>\n",
       "      <td>4</td>\n",
       "      <td>10</td>\n",
       "      <td>2018</td>\n",
       "      <td>274</td>\n",
       "      <td>1</td>\n",
       "      <td>40</td>\n",
       "    </tr>\n",
       "    <tr>\n",
       "      <th>2018-10-01 06:00:00</th>\n",
       "      <td>6</td>\n",
       "      <td>0</td>\n",
       "      <td>4</td>\n",
       "      <td>10</td>\n",
       "      <td>2018</td>\n",
       "      <td>274</td>\n",
       "      <td>1</td>\n",
       "      <td>40</td>\n",
       "    </tr>\n",
       "    <tr>\n",
       "      <th>2018-10-01 08:00:00</th>\n",
       "      <td>8</td>\n",
       "      <td>0</td>\n",
       "      <td>4</td>\n",
       "      <td>10</td>\n",
       "      <td>2018</td>\n",
       "      <td>274</td>\n",
       "      <td>1</td>\n",
       "      <td>40</td>\n",
       "    </tr>\n",
       "    <tr>\n",
       "      <th>2018-10-01 09:00:00</th>\n",
       "      <td>9</td>\n",
       "      <td>0</td>\n",
       "      <td>4</td>\n",
       "      <td>10</td>\n",
       "      <td>2018</td>\n",
       "      <td>274</td>\n",
       "      <td>1</td>\n",
       "      <td>40</td>\n",
       "    </tr>\n",
       "    <tr>\n",
       "      <th>...</th>\n",
       "      <td>...</td>\n",
       "      <td>...</td>\n",
       "      <td>...</td>\n",
       "      <td>...</td>\n",
       "      <td>...</td>\n",
       "      <td>...</td>\n",
       "      <td>...</td>\n",
       "      <td>...</td>\n",
       "    </tr>\n",
       "    <tr>\n",
       "      <th>2018-12-31 12:00:00</th>\n",
       "      <td>12</td>\n",
       "      <td>0</td>\n",
       "      <td>4</td>\n",
       "      <td>12</td>\n",
       "      <td>2018</td>\n",
       "      <td>365</td>\n",
       "      <td>31</td>\n",
       "      <td>1</td>\n",
       "    </tr>\n",
       "    <tr>\n",
       "      <th>2018-12-31 15:00:00</th>\n",
       "      <td>15</td>\n",
       "      <td>0</td>\n",
       "      <td>4</td>\n",
       "      <td>12</td>\n",
       "      <td>2018</td>\n",
       "      <td>365</td>\n",
       "      <td>31</td>\n",
       "      <td>1</td>\n",
       "    </tr>\n",
       "    <tr>\n",
       "      <th>2018-12-31 16:00:00</th>\n",
       "      <td>16</td>\n",
       "      <td>0</td>\n",
       "      <td>4</td>\n",
       "      <td>12</td>\n",
       "      <td>2018</td>\n",
       "      <td>365</td>\n",
       "      <td>31</td>\n",
       "      <td>1</td>\n",
       "    </tr>\n",
       "    <tr>\n",
       "      <th>2018-12-31 18:00:00</th>\n",
       "      <td>18</td>\n",
       "      <td>0</td>\n",
       "      <td>4</td>\n",
       "      <td>12</td>\n",
       "      <td>2018</td>\n",
       "      <td>365</td>\n",
       "      <td>31</td>\n",
       "      <td>1</td>\n",
       "    </tr>\n",
       "    <tr>\n",
       "      <th>2018-12-31 20:00:00</th>\n",
       "      <td>20</td>\n",
       "      <td>0</td>\n",
       "      <td>4</td>\n",
       "      <td>12</td>\n",
       "      <td>2018</td>\n",
       "      <td>365</td>\n",
       "      <td>31</td>\n",
       "      <td>1</td>\n",
       "    </tr>\n",
       "  </tbody>\n",
       "</table>\n",
       "<p>1248 rows × 8 columns</p>\n",
       "</div>"
      ],
      "text/plain": [
       "                     hour  dayofweek  quarter  month  year  dayofyear  \\\n",
       "date                                                                    \n",
       "2018-10-01 02:00:00     2          0        4     10  2018        274   \n",
       "2018-10-01 04:00:00     4          0        4     10  2018        274   \n",
       "2018-10-01 06:00:00     6          0        4     10  2018        274   \n",
       "2018-10-01 08:00:00     8          0        4     10  2018        274   \n",
       "2018-10-01 09:00:00     9          0        4     10  2018        274   \n",
       "...                   ...        ...      ...    ...   ...        ...   \n",
       "2018-12-31 12:00:00    12          0        4     12  2018        365   \n",
       "2018-12-31 15:00:00    15          0        4     12  2018        365   \n",
       "2018-12-31 16:00:00    16          0        4     12  2018        365   \n",
       "2018-12-31 18:00:00    18          0        4     12  2018        365   \n",
       "2018-12-31 20:00:00    20          0        4     12  2018        365   \n",
       "\n",
       "                     dayofmonth  weekofyear  \n",
       "date                                         \n",
       "2018-10-01 02:00:00           1          40  \n",
       "2018-10-01 04:00:00           1          40  \n",
       "2018-10-01 06:00:00           1          40  \n",
       "2018-10-01 08:00:00           1          40  \n",
       "2018-10-01 09:00:00           1          40  \n",
       "...                         ...         ...  \n",
       "2018-12-31 12:00:00          31           1  \n",
       "2018-12-31 15:00:00          31           1  \n",
       "2018-12-31 16:00:00          31           1  \n",
       "2018-12-31 18:00:00          31           1  \n",
       "2018-12-31 20:00:00          31           1  \n",
       "\n",
       "[1248 rows x 8 columns]"
      ]
     },
     "execution_count": 205,
     "metadata": {},
     "output_type": "execute_result"
    }
   ],
   "source": [
    "X_test"
   ]
  },
  {
   "cell_type": "code",
   "execution_count": 206,
   "metadata": {
    "ExecuteTime": {
     "end_time": "2020-12-01T08:10:54.142196Z",
     "start_time": "2020-12-01T08:10:54.128680Z"
    }
   },
   "outputs": [
    {
     "data": {
      "text/html": [
       "<div>\n",
       "<style scoped>\n",
       "    .dataframe tbody tr th:only-of-type {\n",
       "        vertical-align: middle;\n",
       "    }\n",
       "\n",
       "    .dataframe tbody tr th {\n",
       "        vertical-align: top;\n",
       "    }\n",
       "\n",
       "    .dataframe thead th {\n",
       "        text-align: right;\n",
       "    }\n",
       "</style>\n",
       "<table border=\"1\" class=\"dataframe\">\n",
       "  <thead>\n",
       "    <tr style=\"text-align: right;\">\n",
       "      <th></th>\n",
       "      <th>hour</th>\n",
       "      <th>dayofweek</th>\n",
       "      <th>quarter</th>\n",
       "      <th>month</th>\n",
       "      <th>year</th>\n",
       "      <th>dayofyear</th>\n",
       "      <th>dayofmonth</th>\n",
       "      <th>weekofyear</th>\n",
       "    </tr>\n",
       "    <tr>\n",
       "      <th>date</th>\n",
       "      <th></th>\n",
       "      <th></th>\n",
       "      <th></th>\n",
       "      <th></th>\n",
       "      <th></th>\n",
       "      <th></th>\n",
       "      <th></th>\n",
       "      <th></th>\n",
       "    </tr>\n",
       "  </thead>\n",
       "  <tbody>\n",
       "    <tr>\n",
       "      <th>2017-01-01 00:00:00</th>\n",
       "      <td>0</td>\n",
       "      <td>6</td>\n",
       "      <td>1</td>\n",
       "      <td>1</td>\n",
       "      <td>2017</td>\n",
       "      <td>1</td>\n",
       "      <td>1</td>\n",
       "      <td>52</td>\n",
       "    </tr>\n",
       "    <tr>\n",
       "      <th>2017-01-01 01:00:00</th>\n",
       "      <td>1</td>\n",
       "      <td>6</td>\n",
       "      <td>1</td>\n",
       "      <td>1</td>\n",
       "      <td>2017</td>\n",
       "      <td>1</td>\n",
       "      <td>1</td>\n",
       "      <td>52</td>\n",
       "    </tr>\n",
       "    <tr>\n",
       "      <th>2017-01-01 02:00:00</th>\n",
       "      <td>2</td>\n",
       "      <td>6</td>\n",
       "      <td>1</td>\n",
       "      <td>1</td>\n",
       "      <td>2017</td>\n",
       "      <td>1</td>\n",
       "      <td>1</td>\n",
       "      <td>52</td>\n",
       "    </tr>\n",
       "    <tr>\n",
       "      <th>2017-01-01 03:00:00</th>\n",
       "      <td>3</td>\n",
       "      <td>6</td>\n",
       "      <td>1</td>\n",
       "      <td>1</td>\n",
       "      <td>2017</td>\n",
       "      <td>1</td>\n",
       "      <td>1</td>\n",
       "      <td>52</td>\n",
       "    </tr>\n",
       "    <tr>\n",
       "      <th>2017-01-01 04:00:00</th>\n",
       "      <td>4</td>\n",
       "      <td>6</td>\n",
       "      <td>1</td>\n",
       "      <td>1</td>\n",
       "      <td>2017</td>\n",
       "      <td>1</td>\n",
       "      <td>1</td>\n",
       "      <td>52</td>\n",
       "    </tr>\n",
       "    <tr>\n",
       "      <th>...</th>\n",
       "      <td>...</td>\n",
       "      <td>...</td>\n",
       "      <td>...</td>\n",
       "      <td>...</td>\n",
       "      <td>...</td>\n",
       "      <td>...</td>\n",
       "      <td>...</td>\n",
       "      <td>...</td>\n",
       "    </tr>\n",
       "    <tr>\n",
       "      <th>2018-09-30 18:00:00</th>\n",
       "      <td>18</td>\n",
       "      <td>6</td>\n",
       "      <td>3</td>\n",
       "      <td>9</td>\n",
       "      <td>2018</td>\n",
       "      <td>273</td>\n",
       "      <td>30</td>\n",
       "      <td>39</td>\n",
       "    </tr>\n",
       "    <tr>\n",
       "      <th>2018-09-30 19:00:00</th>\n",
       "      <td>19</td>\n",
       "      <td>6</td>\n",
       "      <td>3</td>\n",
       "      <td>9</td>\n",
       "      <td>2018</td>\n",
       "      <td>273</td>\n",
       "      <td>30</td>\n",
       "      <td>39</td>\n",
       "    </tr>\n",
       "    <tr>\n",
       "      <th>2018-09-30 21:00:00</th>\n",
       "      <td>21</td>\n",
       "      <td>6</td>\n",
       "      <td>3</td>\n",
       "      <td>9</td>\n",
       "      <td>2018</td>\n",
       "      <td>273</td>\n",
       "      <td>30</td>\n",
       "      <td>39</td>\n",
       "    </tr>\n",
       "    <tr>\n",
       "      <th>2018-09-30 22:00:00</th>\n",
       "      <td>22</td>\n",
       "      <td>6</td>\n",
       "      <td>3</td>\n",
       "      <td>9</td>\n",
       "      <td>2018</td>\n",
       "      <td>273</td>\n",
       "      <td>30</td>\n",
       "      <td>39</td>\n",
       "    </tr>\n",
       "    <tr>\n",
       "      <th>2018-09-30 23:00:00</th>\n",
       "      <td>23</td>\n",
       "      <td>6</td>\n",
       "      <td>3</td>\n",
       "      <td>9</td>\n",
       "      <td>2018</td>\n",
       "      <td>273</td>\n",
       "      <td>30</td>\n",
       "      <td>39</td>\n",
       "    </tr>\n",
       "  </tbody>\n",
       "</table>\n",
       "<p>12758 rows × 8 columns</p>\n",
       "</div>"
      ],
      "text/plain": [
       "                     hour  dayofweek  quarter  month  year  dayofyear  \\\n",
       "date                                                                    \n",
       "2017-01-01 00:00:00     0          6        1      1  2017          1   \n",
       "2017-01-01 01:00:00     1          6        1      1  2017          1   \n",
       "2017-01-01 02:00:00     2          6        1      1  2017          1   \n",
       "2017-01-01 03:00:00     3          6        1      1  2017          1   \n",
       "2017-01-01 04:00:00     4          6        1      1  2017          1   \n",
       "...                   ...        ...      ...    ...   ...        ...   \n",
       "2018-09-30 18:00:00    18          6        3      9  2018        273   \n",
       "2018-09-30 19:00:00    19          6        3      9  2018        273   \n",
       "2018-09-30 21:00:00    21          6        3      9  2018        273   \n",
       "2018-09-30 22:00:00    22          6        3      9  2018        273   \n",
       "2018-09-30 23:00:00    23          6        3      9  2018        273   \n",
       "\n",
       "                     dayofmonth  weekofyear  \n",
       "date                                         \n",
       "2017-01-01 00:00:00           1          52  \n",
       "2017-01-01 01:00:00           1          52  \n",
       "2017-01-01 02:00:00           1          52  \n",
       "2017-01-01 03:00:00           1          52  \n",
       "2017-01-01 04:00:00           1          52  \n",
       "...                         ...         ...  \n",
       "2018-09-30 18:00:00          30          39  \n",
       "2018-09-30 19:00:00          30          39  \n",
       "2018-09-30 21:00:00          30          39  \n",
       "2018-09-30 22:00:00          30          39  \n",
       "2018-09-30 23:00:00          30          39  \n",
       "\n",
       "[12758 rows x 8 columns]"
      ]
     },
     "execution_count": 206,
     "metadata": {},
     "output_type": "execute_result"
    }
   ],
   "source": [
    "X_train"
   ]
  },
  {
   "cell_type": "code",
   "execution_count": 213,
   "metadata": {
    "ExecuteTime": {
     "end_time": "2020-12-01T08:12:37.523411Z",
     "start_time": "2020-12-01T08:12:10.906823Z"
    }
   },
   "outputs": [
    {
     "data": {
      "text/plain": [
       "MLPRegressor(alpha=1e-05, hidden_layer_sizes=(256, 128, 64, 10),\n",
       "             learning_rate_init=0.005, max_iter=400)"
      ]
     },
     "execution_count": 213,
     "metadata": {},
     "output_type": "execute_result"
    }
   ],
   "source": [
    "reg = MLPRegressor(alpha=1e-5, hidden_layer_sizes=(256,128,64,10), max_iter=400, learning_rate_init=0.005)\n",
    "reg.fit(X_train, Y_train)"
   ]
  },
  {
   "cell_type": "code",
   "execution_count": 214,
   "metadata": {
    "ExecuteTime": {
     "end_time": "2020-12-01T08:12:56.810095Z",
     "start_time": "2020-12-01T08:12:56.791673Z"
    }
   },
   "outputs": [],
   "source": [
    "X_ts = create_features(X_test)\n",
    "speed_test['speed-p'] = reg.predict(X_ts)"
   ]
  },
  {
   "cell_type": "code",
   "execution_count": 215,
   "metadata": {
    "ExecuteTime": {
     "end_time": "2020-12-01T08:12:57.314006Z",
     "start_time": "2020-12-01T08:12:57.305731Z"
    }
   },
   "outputs": [
    {
     "data": {
      "text/plain": [
       "20.623159523759078"
      ]
     },
     "execution_count": 215,
     "metadata": {},
     "output_type": "execute_result"
    }
   ],
   "source": [
    "l = list(speed_test['speed'])\n",
    "p = list(speed_test['speed-p'])\n",
    "mean_squared_error(l, p)"
   ]
  },
  {
   "cell_type": "code",
   "execution_count": 97,
   "metadata": {
    "ExecuteTime": {
     "end_time": "2020-11-29T08:01:43.707146Z",
     "start_time": "2020-11-29T08:01:43.698855Z"
    }
   },
   "outputs": [],
   "source": [
    "res = speed_test[['speed', 'speed-p']]"
   ]
  },
  {
   "cell_type": "code",
   "execution_count": 98,
   "metadata": {
    "ExecuteTime": {
     "end_time": "2020-11-29T08:01:44.252261Z",
     "start_time": "2020-11-29T08:01:44.237943Z"
    }
   },
   "outputs": [
    {
     "data": {
      "text/html": [
       "<div>\n",
       "<style scoped>\n",
       "    .dataframe tbody tr th:only-of-type {\n",
       "        vertical-align: middle;\n",
       "    }\n",
       "\n",
       "    .dataframe tbody tr th {\n",
       "        vertical-align: top;\n",
       "    }\n",
       "\n",
       "    .dataframe thead th {\n",
       "        text-align: right;\n",
       "    }\n",
       "</style>\n",
       "<table border=\"1\" class=\"dataframe\">\n",
       "  <thead>\n",
       "    <tr style=\"text-align: right;\">\n",
       "      <th></th>\n",
       "      <th>speed</th>\n",
       "      <th>speed-p</th>\n",
       "    </tr>\n",
       "    <tr>\n",
       "      <th>date</th>\n",
       "      <th></th>\n",
       "      <th></th>\n",
       "    </tr>\n",
       "  </thead>\n",
       "  <tbody>\n",
       "    <tr>\n",
       "      <th>2018-10-01 02:00:00</th>\n",
       "      <td>50.246104</td>\n",
       "      <td>49.628090</td>\n",
       "    </tr>\n",
       "    <tr>\n",
       "      <th>2018-10-01 04:00:00</th>\n",
       "      <td>45.510210</td>\n",
       "      <td>46.832378</td>\n",
       "    </tr>\n",
       "    <tr>\n",
       "      <th>2018-10-01 06:00:00</th>\n",
       "      <td>44.037369</td>\n",
       "      <td>45.267559</td>\n",
       "    </tr>\n",
       "    <tr>\n",
       "      <th>2018-10-01 08:00:00</th>\n",
       "      <td>30.534474</td>\n",
       "      <td>30.017534</td>\n",
       "    </tr>\n",
       "    <tr>\n",
       "      <th>2018-10-01 09:00:00</th>\n",
       "      <td>33.080493</td>\n",
       "      <td>33.378826</td>\n",
       "    </tr>\n",
       "    <tr>\n",
       "      <th>...</th>\n",
       "      <td>...</td>\n",
       "      <td>...</td>\n",
       "    </tr>\n",
       "    <tr>\n",
       "      <th>2018-12-31 12:00:00</th>\n",
       "      <td>19.865269</td>\n",
       "      <td>19.645666</td>\n",
       "    </tr>\n",
       "    <tr>\n",
       "      <th>2018-12-31 15:00:00</th>\n",
       "      <td>17.820375</td>\n",
       "      <td>18.076647</td>\n",
       "    </tr>\n",
       "    <tr>\n",
       "      <th>2018-12-31 16:00:00</th>\n",
       "      <td>12.501851</td>\n",
       "      <td>12.161566</td>\n",
       "    </tr>\n",
       "    <tr>\n",
       "      <th>2018-12-31 18:00:00</th>\n",
       "      <td>15.979319</td>\n",
       "      <td>15.489479</td>\n",
       "    </tr>\n",
       "    <tr>\n",
       "      <th>2018-12-31 20:00:00</th>\n",
       "      <td>40.594183</td>\n",
       "      <td>40.104748</td>\n",
       "    </tr>\n",
       "  </tbody>\n",
       "</table>\n",
       "<p>1248 rows × 2 columns</p>\n",
       "</div>"
      ],
      "text/plain": [
       "                         speed    speed-p\n",
       "date                                     \n",
       "2018-10-01 02:00:00  50.246104  49.628090\n",
       "2018-10-01 04:00:00  45.510210  46.832378\n",
       "2018-10-01 06:00:00  44.037369  45.267559\n",
       "2018-10-01 08:00:00  30.534474  30.017534\n",
       "2018-10-01 09:00:00  33.080493  33.378826\n",
       "...                        ...        ...\n",
       "2018-12-31 12:00:00  19.865269  19.645666\n",
       "2018-12-31 15:00:00  17.820375  18.076647\n",
       "2018-12-31 16:00:00  12.501851  12.161566\n",
       "2018-12-31 18:00:00  15.979319  15.489479\n",
       "2018-12-31 20:00:00  40.594183  40.104748\n",
       "\n",
       "[1248 rows x 2 columns]"
      ]
     },
     "execution_count": 98,
     "metadata": {},
     "output_type": "execute_result"
    }
   ],
   "source": [
    "res"
   ]
  },
  {
   "cell_type": "code",
   "execution_count": null,
   "metadata": {},
   "outputs": [],
   "source": []
  }
 ],
 "metadata": {
  "kernelspec": {
   "display_name": "Python 3",
   "language": "python",
   "name": "python3"
  },
  "language_info": {
   "codemirror_mode": {
    "name": "ipython",
    "version": 3
   },
   "file_extension": ".py",
   "mimetype": "text/x-python",
   "name": "python",
   "nbconvert_exporter": "python",
   "pygments_lexer": "ipython3",
   "version": "3.8.3"
  },
  "toc": {
   "base_numbering": 1,
   "nav_menu": {},
   "number_sections": true,
   "sideBar": true,
   "skip_h1_title": false,
   "title_cell": "Table of Contents",
   "title_sidebar": "Contents",
   "toc_cell": false,
   "toc_position": {},
   "toc_section_display": true,
   "toc_window_display": false
  },
  "varInspector": {
   "cols": {
    "lenName": 16,
    "lenType": 16,
    "lenVar": 40
   },
   "kernels_config": {
    "python": {
     "delete_cmd_postfix": "",
     "delete_cmd_prefix": "del ",
     "library": "var_list.py",
     "varRefreshCmd": "print(var_dic_list())"
    },
    "r": {
     "delete_cmd_postfix": ") ",
     "delete_cmd_prefix": "rm(",
     "library": "var_list.r",
     "varRefreshCmd": "cat(var_dic_list()) "
    }
   },
   "types_to_exclude": [
    "module",
    "function",
    "builtin_function_or_method",
    "instance",
    "_Feature"
   ],
   "window_display": false
  }
 },
 "nbformat": 4,
 "nbformat_minor": 4
}
